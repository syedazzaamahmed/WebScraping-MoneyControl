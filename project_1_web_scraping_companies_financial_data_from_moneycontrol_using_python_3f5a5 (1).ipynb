{
  "nbformat": 4,
  "nbformat_minor": 0,
  "metadata": {
    "colab": {
      "provenance": []
    },
    "kernelspec": {
      "name": "python3",
      "display_name": "Python 3"
    },
    "language_info": {
      "name": "python"
    }
  },
  "cells": [
    {
      "cell_type": "markdown",
      "source": [
        "# Web Scraping Companies Financial Data on MoneyControl using Python"
      ],
      "metadata": {
        "id": "9iFs1YEmzcFl"
      }
    },
    {
      "cell_type": "markdown",
      "source": [
        "![](https://imgur.com/kAFgDAT.png)"
      ],
      "metadata": {
        "id": "ZLBIkpjNwY_I"
      }
    },
    {
      "cell_type": "markdown",
      "source": [
        "### About MoneyControl\n",
        "https://www.moneycontrol.com/cdata/aboutus"
      ],
      "metadata": {
        "id": "JmNJbMw40CU3"
      }
    },
    {
      "cell_type": "markdown",
      "source": [
        "## Web Scraping\n",
        "\n",
        "Web scraping is the process of extracting and parsing data from websites in an automated fashion using a computer program. It's a useful technique for creating datasets for research and learning. Mostly it is unstructured html data which is then converted into structured data and stored in spreadsheet or in database format.\n",
        "\n",
        "### The steps we'll follow:\n",
        "\n",
        "- We're going to scrape https://www.moneycontrol.com/stocks/marketinfo/marketcap/bse\n",
        "- We'll get a list of companies.\n",
        "- For each company, we'll get the company name, company page URL\n",
        "- For each company, we'll get company's last tarded stock price, Percentage change in stock price and Market Capitalisation.\n",
        "- Save the information data to CSV file Using Pandas library\n",
        "\n",
        "The output will look like this:\n",
        "\n",
        "Name,\tLTP,\t% Chg.,\tMarket Cap, URL."
      ],
      "metadata": {
        "id": "QbY_A4LA1ERV"
      }
    },
    {
      "cell_type": "markdown",
      "source": [
        "![](https://imgur.com/4P1ZLWF.png)"
      ],
      "metadata": {
        "id": "1GjdUbD64LlU"
      }
    },
    {
      "cell_type": "markdown",
      "source": [
        "## Scrape the list of Companies from MoneyControl\n",
        "\n",
        " - We will use Requests library to downlaod the page.\n",
        " - we will use BeautifulSoup to parse and extract information.\n",
        " - convert to a Pandas dataframe"
      ],
      "metadata": {
        "id": "nHixYmy44RMy"
      }
    },
    {
      "cell_type": "markdown",
      "source": [
        "### Install and import required libraries."
      ],
      "metadata": {
        "id": "E6M8KiVv4lsm"
      }
    },
    {
      "cell_type": "code",
      "source": [
        "import requests\n",
        "from bs4 import BeautifulSoup\n",
        "import pandas as pd\n"
      ],
      "metadata": {
        "id": "_dBMGZU7iXc0"
      },
      "execution_count": null,
      "outputs": []
    },
    {
      "cell_type": "markdown",
      "source": [
        "## Downloading the web page using requests\n",
        "\n",
        "When you access a URL like using a web browser, it downloads the contents of the web page the URL points to and displays the output on the screen. Before we can extract information from a web page, we need to download the page using Python.\n",
        "\n",
        "We'll use a library called requests to download web pages from the internet. We can download a web page using the requests.get function.\n",
        "\n",
        "We'll use a library called BeautifulSoup to Parse the HTML source code.\n",
        "\n",
        "\n",
        "\n",
        "*   About requests library - https://requests.readthedocs.io/en/latest/\n",
        "*   About BeautifulSoup library - https://beautiful-soup-4.readthedocs.io/en/latest/\n",
        "*   About HTML - https://html.com/"
      ],
      "metadata": {
        "id": "TvACFHar4yNX"
      }
    },
    {
      "cell_type": "code",
      "execution_count": null,
      "metadata": {
        "id": "OSVoqenZB6rB"
      },
      "outputs": [],
      "source": [
        "def get_company_page():\n",
        "    # TODO - add comments\n",
        "    topics_url = 'https://www.moneycontrol.com/stocks/marketinfo/marketcap/bse/index.html'\n",
        "    response = requests.get(topics_url)\n",
        "    if response.status_code != 200:\n",
        "        raise Exception('Failed to load page {}'.format(topic_url))\n",
        "    doc = BeautifulSoup(response.text, 'html.parser')\n",
        "    return doc"
      ]
    },
    {
      "cell_type": "code",
      "source": [
        "doc = get_company_page()"
      ],
      "metadata": {
        "id": "zFmVyjS-CfRS"
      },
      "execution_count": null,
      "outputs": []
    },
    {
      "cell_type": "markdown",
      "source": [
        "## Inspecting HTML in the Browser\n",
        "To view the source code of any webpage right within your browser, you can right click anywhere on a page and select the “Inspect” option. You access the “Developer Tools” mode, where you can see the source code as a tree. You can expand and collapse various nodes and find the source code for a specific portion of the page."
      ],
      "metadata": {
        "id": "lrSWJLwd7Eci"
      }
    },
    {
      "cell_type": "markdown",
      "source": [
        "![](https://imgur.com/JJf5pnb.png)"
      ],
      "metadata": {
        "id": "hL-k5YMV7R_H"
      }
    },
    {
      "cell_type": "markdown",
      "source": [
        "Now let’s get the 'tr' and the total number of companies"
      ],
      "metadata": {
        "id": "n4eFtf1y8qYt"
      }
    },
    {
      "cell_type": "code",
      "source": [
        "company = doc.find_all('tr')"
      ],
      "metadata": {
        "id": "8Z1f0SsqK3Ru"
      },
      "execution_count": null,
      "outputs": []
    },
    {
      "cell_type": "code",
      "source": [
        "len(company)"
      ],
      "metadata": {
        "colab": {
          "base_uri": "https://localhost:8080/"
        },
        "id": "WATlNtaqK_fn",
        "outputId": "28959f6b-2a6d-4596-db03-036c0cf410ae"
      },
      "execution_count": null,
      "outputs": [
        {
          "output_type": "execute_result",
          "data": {
            "text/plain": [
              "102"
            ]
          },
          "metadata": {},
          "execution_count": 54
        }
      ]
    },
    {
      "cell_type": "markdown",
      "source": [
        "## Dropping unecessary data."
      ],
      "metadata": {
        "id": "iClF5TBD47QV"
      }
    },
    {
      "cell_type": "code",
      "source": [
        "company.pop(0)"
      ],
      "metadata": {
        "colab": {
          "base_uri": "https://localhost:8080/"
        },
        "id": "9-vxcwlmWmjL",
        "outputId": "798b550a-bc49-4cd5-e00b-f15dd55e208a"
      },
      "execution_count": null,
      "outputs": [
        {
          "output_type": "execute_result",
          "data": {
            "text/plain": [
              "<tr><td><link href=\"https://www.moneycontrol.com/rss/latestnews.xml\" rel=\"alternate\" title=\"MoneyControl.com News\" type=\"application/rss+xml\"/></td></tr>"
            ]
          },
          "metadata": {},
          "execution_count": 86
        }
      ]
    },
    {
      "cell_type": "code",
      "source": [
        "company.pop(0)"
      ],
      "metadata": {
        "colab": {
          "base_uri": "https://localhost:8080/"
        },
        "id": "X4V_fcSpXQQi",
        "outputId": "b6d14996-9ace-498f-e385-f28d45e0ad66"
      },
      "execution_count": null,
      "outputs": [
        {
          "output_type": "execute_result",
          "data": {
            "text/plain": [
              "<tr class=\"bggry\">\n",
              "<th align=\"left\" class=\"brdrgtgry\" width=\"25%\">Company Name</th></tr>"
            ]
          },
          "metadata": {},
          "execution_count": 88
        }
      ]
    },
    {
      "cell_type": "markdown",
      "source": [
        "Now let’s get the individual details for the first company, which has all the information required"
      ],
      "metadata": {
        "id": "22Dtug129GfB"
      }
    },
    {
      "cell_type": "code",
      "source": [
        "company[0]"
      ],
      "metadata": {
        "colab": {
          "base_uri": "https://localhost:8080/"
        },
        "id": "xlK_A9jrXcyu",
        "outputId": "9245bb5e-4008-4713-b257-59f5c2f3f67d"
      },
      "execution_count": null,
      "outputs": [
        {
          "output_type": "execute_result",
          "data": {
            "text/plain": [
              "<tr>\n",
              "<td class=\"brdrgtgry\" width=\"25%\"><a class=\"bl_12\" href=\"/india/stockpricequote/refineries/relianceindustries/RI\"><b>Reliance</b></a>\n",
              "<div class=\"addPrWhs\">\n",
              "<a class=\"mIcon\" href=\"javascript:void(0);\"></a>\n",
              "<div class=\"ddlist\">\n",
              "<ul>\n",
              "<li><a class=\"watch\" href=\"javascript:;\" onclick=\"javascript:chkbx_val('RI','1');\">Add to Watchlist</a></li>\n",
              "<li><a class=\"port\" href=\"javascript:;\" onclick=\"javascript:chkbx_val('RI','5');\">Add to Portfolio</a></li>\n",
              "</ul>\n",
              "</div>\n",
              "</div>\n",
              "</td>\n",
              "<td align=\"right\" class=\"brdrgtgry\" style=\"color:#16a903\">2,642.40</td>\n",
              "<td align=\"right\" class=\"brdrgtgry\" style=\"color:#16a903\">0.37</td>\n",
              "<td align=\"right\" class=\"brdrgtgry\">2,855.00</td>\n",
              "<td align=\"right\" class=\"brdrgtgry\">2,110.15</td>\n",
              "<td align=\"right\" class=\"brdrgtgry\">1,787,789.57</td>\n",
              "</tr>"
            ]
          },
          "metadata": {},
          "execution_count": 89
        }
      ]
    },
    {
      "cell_type": "code",
      "source": [
        "company[2].text.strip()"
      ],
      "metadata": {
        "colab": {
          "base_uri": "https://localhost:8080/",
          "height": 35
        },
        "id": "cM7GLfqPLEuQ",
        "outputId": "c64270b6-acb2-4eac-8a65-d8805e932325"
      },
      "execution_count": null,
      "outputs": [
        {
          "output_type": "execute_result",
          "data": {
            "text/plain": [
              "'Reliance\\n\\n\\n\\n\\nAdd to Watchlist\\nAdd to Portfolio\\n\\n\\n\\n\\n2,642.40\\n0.37\\n2,855.00\\n2,110.15\\n1,787,789.57'"
            ],
            "application/vnd.google.colaboratory.intrinsic+json": {
              "type": "string"
            }
          },
          "metadata": {},
          "execution_count": 55
        }
      ]
    },
    {
      "cell_type": "markdown",
      "source": [
        "Now let’s get the individual 'td' for the company, which has all the information required"
      ],
      "metadata": {
        "id": "Y1WHZ0R19Oe7"
      }
    },
    {
      "cell_type": "code",
      "source": [
        "com = company[2].find_all('td')\n",
        "com"
      ],
      "metadata": {
        "colab": {
          "base_uri": "https://localhost:8080/"
        },
        "id": "IZYLrE-sMNsa",
        "outputId": "962bbfe5-9743-4397-ee5e-88483e5d6e77"
      },
      "execution_count": null,
      "outputs": [
        {
          "output_type": "execute_result",
          "data": {
            "text/plain": [
              "[<td class=\"brdrgtgry\" width=\"25%\"><a class=\"bl_12\" href=\"/india/stockpricequote/refineries/relianceindustries/RI\"><b>Reliance</b></a>\n",
              " <div class=\"addPrWhs\">\n",
              " <a class=\"mIcon\" href=\"javascript:void(0);\"></a>\n",
              " <div class=\"ddlist\">\n",
              " <ul>\n",
              " <li><a class=\"watch\" href=\"javascript:;\" onclick=\"javascript:chkbx_val('RI','1');\">Add to Watchlist</a></li>\n",
              " <li><a class=\"port\" href=\"javascript:;\" onclick=\"javascript:chkbx_val('RI','5');\">Add to Portfolio</a></li>\n",
              " </ul>\n",
              " </div>\n",
              " </div>\n",
              " </td>,\n",
              " <td align=\"right\" class=\"brdrgtgry\" style=\"color:#16a903\">2,642.40</td>,\n",
              " <td align=\"right\" class=\"brdrgtgry\" style=\"color:#16a903\">0.37</td>,\n",
              " <td align=\"right\" class=\"brdrgtgry\">2,855.00</td>,\n",
              " <td align=\"right\" class=\"brdrgtgry\">2,110.15</td>,\n",
              " <td align=\"right\" class=\"brdrgtgry\">1,787,789.57</td>]"
            ]
          },
          "metadata": {},
          "execution_count": 56
        }
      ]
    },
    {
      "cell_type": "markdown",
      "source": [
        "Now let’s parse through each td tag to get the required information for specific stock and display it."
      ],
      "metadata": {
        "id": "5E0sZcrI9hIm"
      }
    },
    {
      "cell_type": "code",
      "source": [
        "name = com[0].find('b').text.strip()"
      ],
      "metadata": {
        "id": "5nyWcU55N-OT"
      },
      "execution_count": null,
      "outputs": []
    },
    {
      "cell_type": "code",
      "source": [
        "name"
      ],
      "metadata": {
        "colab": {
          "base_uri": "https://localhost:8080/",
          "height": 35
        },
        "id": "iyhY3BNlN-BD",
        "outputId": "32daa83a-ecd7-49e7-c029-9c251ea47329"
      },
      "execution_count": null,
      "outputs": [
        {
          "output_type": "execute_result",
          "data": {
            "text/plain": [
              "'Reliance'"
            ],
            "application/vnd.google.colaboratory.intrinsic+json": {
              "type": "string"
            }
          },
          "metadata": {},
          "execution_count": 58
        }
      ]
    },
    {
      "cell_type": "code",
      "source": [
        "L_T_price = com[1].text.strip()"
      ],
      "metadata": {
        "id": "dbhVpbIqN98N"
      },
      "execution_count": null,
      "outputs": []
    },
    {
      "cell_type": "code",
      "source": [
        "L_T_price"
      ],
      "metadata": {
        "colab": {
          "base_uri": "https://localhost:8080/",
          "height": 35
        },
        "id": "4EU63dCaN9ui",
        "outputId": "560abdd5-dc0d-4137-ab65-eeae426a8569"
      },
      "execution_count": null,
      "outputs": [
        {
          "output_type": "execute_result",
          "data": {
            "text/plain": [
              "'2,642.40'"
            ],
            "application/vnd.google.colaboratory.intrinsic+json": {
              "type": "string"
            }
          },
          "metadata": {},
          "execution_count": 60
        }
      ]
    },
    {
      "cell_type": "code",
      "source": [
        "Percent_change = com[2].text.strip()"
      ],
      "metadata": {
        "id": "aUeVtVwdN9rd"
      },
      "execution_count": null,
      "outputs": []
    },
    {
      "cell_type": "code",
      "source": [
        "Percent_change"
      ],
      "metadata": {
        "colab": {
          "base_uri": "https://localhost:8080/",
          "height": 35
        },
        "id": "lv8i0o7hQ8Lv",
        "outputId": "3edb33b0-759b-473f-8941-7fa0cf9439fd"
      },
      "execution_count": null,
      "outputs": [
        {
          "output_type": "execute_result",
          "data": {
            "text/plain": [
              "'0.37'"
            ],
            "application/vnd.google.colaboratory.intrinsic+json": {
              "type": "string"
            }
          },
          "metadata": {},
          "execution_count": 62
        }
      ]
    },
    {
      "cell_type": "code",
      "source": [
        "Market_Cap = com[-1].text.strip()"
      ],
      "metadata": {
        "id": "h8OozjePRFAw"
      },
      "execution_count": null,
      "outputs": []
    },
    {
      "cell_type": "code",
      "source": [
        "Market_Cap"
      ],
      "metadata": {
        "colab": {
          "base_uri": "https://localhost:8080/",
          "height": 35
        },
        "id": "ljnXn3efRN2y",
        "outputId": "94b1b3d6-463a-4ee5-9990-1a73480d0560"
      },
      "execution_count": null,
      "outputs": [
        {
          "output_type": "execute_result",
          "data": {
            "text/plain": [
              "'1,787,789.57'"
            ],
            "application/vnd.google.colaboratory.intrinsic+json": {
              "type": "string"
            }
          },
          "metadata": {},
          "execution_count": 64
        }
      ]
    },
    {
      "cell_type": "code",
      "source": [
        "url = \"https://www.moneycontrol.com/\"  + com[0].find('a')['href']"
      ],
      "metadata": {
        "id": "ZZ4r_GrSRXwz"
      },
      "execution_count": null,
      "outputs": []
    },
    {
      "cell_type": "code",
      "source": [
        "url"
      ],
      "metadata": {
        "colab": {
          "base_uri": "https://localhost:8080/",
          "height": 35
        },
        "id": "Rj2BSGysRwIF",
        "outputId": "21add1a3-46f4-4c91-a3a4-9874c19f70cc"
      },
      "execution_count": null,
      "outputs": [
        {
          "output_type": "execute_result",
          "data": {
            "text/plain": [
              "'https://www.moneycontrol.com//india/stockpricequote/refineries/relianceindustries/RI'"
            ],
            "application/vnd.google.colaboratory.intrinsic+json": {
              "type": "string"
            }
          },
          "metadata": {},
          "execution_count": 67
        }
      ]
    },
    {
      "cell_type": "markdown",
      "source": [
        "Print all the Values"
      ],
      "metadata": {
        "id": "6R3y6bFe9rsl"
      }
    },
    {
      "cell_type": "code",
      "source": [
        "\n",
        "print(\"Name:\", format(name))\n",
        "print(\"Last_Traded_Price:\", format(L_T_price))\n",
        "print(\"% Chg.:\", format(Percent_change))\n",
        "print(\"Market Cap:\", format(Market_Cap))\n",
        "print(\"URL:\", format(url))"
      ],
      "metadata": {
        "colab": {
          "base_uri": "https://localhost:8080/"
        },
        "id": "HXTWi4_CSE6q",
        "outputId": "5154a166-6479-4231-8f4d-62ffd924713a"
      },
      "execution_count": null,
      "outputs": [
        {
          "output_type": "stream",
          "name": "stdout",
          "text": [
            "Name: Reliance\n",
            "Last_Traded_Price: 2,642.40\n",
            "% Chg.: 0.37\n",
            "Market Cap: 1,787,789.57\n",
            "URL: https://www.moneycontrol.com//india/stockpricequote/refineries/relianceindustries/RI\n"
          ]
        }
      ]
    },
    {
      "cell_type": "markdown",
      "source": [
        "## Function to Clean the string"
      ],
      "metadata": {
        "id": "Q5fuTNyB-HGD"
      }
    },
    {
      "cell_type": "code",
      "source": [
        "def remove_coma(a): # This is a function that removes coma(,)\n",
        "  b = a.replace(',','')\n",
        "  return b\n"
      ],
      "metadata": {
        "id": "i7Z_BYw2hvqa"
      },
      "execution_count": null,
      "outputs": []
    },
    {
      "cell_type": "markdown",
      "source": [
        "## Let us do the same thing in a function."
      ],
      "metadata": {
        "id": "JFKLVPpU-O1R"
      }
    },
    {
      "cell_type": "code",
      "source": [
        "def parse_document(company):\n",
        "    \n",
        "    com = company.find_all('td')\n",
        "    name = com[0].find('b').text.strip()\n",
        "    L_T_price = com[1].text.strip()\n",
        "    Percent_change = com[2].text.strip()\n",
        "    Market_Cap = com[-1].text.strip()\n",
        "    url = \"https://www.moneycontrol.com/\" + com[0].find('a')['href']\n",
        "    \n",
        "    # Return a dictionary\n",
        "    return {\n",
        "        'Name': name,        \n",
        "        'LTP': remove_coma(L_T_price),\n",
        "        '% Chg.': Percent_change,\n",
        "        'Market Cap': remove_coma(Market_Cap),\n",
        "        'URL': url\n",
        "    }   "
      ],
      "metadata": {
        "id": "cEIW1KzOTNW3"
      },
      "execution_count": null,
      "outputs": []
    },
    {
      "cell_type": "code",
      "source": [
        "all_records = [parse_document(tag) for tag in company]"
      ],
      "metadata": {
        "id": "qivFd2q3UwlQ"
      },
      "execution_count": null,
      "outputs": []
    },
    {
      "cell_type": "code",
      "source": [
        "len(all_records)"
      ],
      "metadata": {
        "colab": {
          "base_uri": "https://localhost:8080/"
        },
        "id": "wAbdXmWTXlDI",
        "outputId": "e4fda61e-0ec0-4067-90ac-75c9ee367ecf"
      },
      "execution_count": null,
      "outputs": [
        {
          "output_type": "execute_result",
          "data": {
            "text/plain": [
              "100"
            ]
          },
          "metadata": {},
          "execution_count": 140
        }
      ]
    },
    {
      "cell_type": "code",
      "source": [
        "all_records[:5]"
      ],
      "metadata": {
        "colab": {
          "base_uri": "https://localhost:8080/"
        },
        "id": "x_3Mcp0TXw2G",
        "outputId": "1e61d91d-2fd4-4bac-cd47-86a7ab48141b"
      },
      "execution_count": null,
      "outputs": [
        {
          "output_type": "execute_result",
          "data": {
            "text/plain": [
              "[{'Name': 'Reliance',\n",
              "  'LTP': '2642.40',\n",
              "  '% Chg.': '0.37',\n",
              "  'Market Cap': '1787789.57',\n",
              "  'URL': 'https://www.moneycontrol.com//india/stockpricequote/refineries/relianceindustries/RI'},\n",
              " {'Name': 'TCS',\n",
              "  'LTP': '3401.05',\n",
              "  '% Chg.': '0.04',\n",
              "  'Market Cap': '1244461.67',\n",
              "  'URL': 'https://www.moneycontrol.com//india/stockpricequote/computerssoftware/tataconsultancyservices/TCS'},\n",
              " {'Name': 'HDFC Bank',\n",
              "  'LTP': '1503.45',\n",
              "  '% Chg.': '1.26',\n",
              "  'Market Cap': '835600.60',\n",
              "  'URL': 'https://www.moneycontrol.com//india/stockpricequote/banksprivatesector/hdfcbank/HDF01'},\n",
              " {'Name': 'Infosys',\n",
              "  'LTP': '1598.00',\n",
              "  '% Chg.': '0.22',\n",
              "  'Market Cap': '672393.34',\n",
              "  'URL': 'https://www.moneycontrol.com//india/stockpricequote/computerssoftware/infosys/IT'},\n",
              " {'Name': 'HUL',\n",
              "  'LTP': '2636.10',\n",
              "  '% Chg.': '1.58',\n",
              "  'Market Cap': '619375.75',\n",
              "  'URL': 'https://www.moneycontrol.com//india/stockpricequote/personalcare/hindustanunilever/HU'}]"
            ]
          },
          "metadata": {},
          "execution_count": 141
        }
      ]
    },
    {
      "cell_type": "markdown",
      "source": [
        "## Let us write a function to create a CSV file. The function accepts a dictionary of records and path/filename as parameters."
      ],
      "metadata": {
        "id": "na9pv_PQ-jzX"
      }
    },
    {
      "cell_type": "code",
      "source": [
        "def write_csv(items, path):\n",
        "    # Open the file in write mode\n",
        "    with open(path, 'w') as f:\n",
        "        # Return if there's nothing to write\n",
        "        if len(items) == 0:\n",
        "            return\n",
        "        \n",
        "        # Write the headers in the first line\n",
        "        headers = list(items[0].keys())\n",
        "        f.write(','.join(headers) + '\\n')\n",
        "        \n",
        "        # Write one item per line\n",
        "        for item in items:\n",
        "            values = []\n",
        "            for header in headers:\n",
        "                values.append(str(item.get(header, \"\")))\n",
        "            f.write(','.join(values) + \"\\n\")"
      ],
      "metadata": {
        "id": "LbVnvmv_YDln"
      },
      "execution_count": null,
      "outputs": []
    },
    {
      "cell_type": "code",
      "source": [
        "write_csv(all_records,\"Company_details.csv\")"
      ],
      "metadata": {
        "id": "pSVva6dMYF2b"
      },
      "execution_count": null,
      "outputs": []
    },
    {
      "cell_type": "markdown",
      "source": [
        "## Let us dispaly the dataset we created."
      ],
      "metadata": {
        "id": "W0kN07ir-3IN"
      }
    },
    {
      "cell_type": "code",
      "source": [
        "pd.read_csv('Company_details.csv')"
      ],
      "metadata": {
        "colab": {
          "base_uri": "https://localhost:8080/",
          "height": 424
        },
        "id": "CwE_HrR4YPlg",
        "outputId": "a47d77fb-100f-442d-e863-863a3d7220a8"
      },
      "execution_count": null,
      "outputs": [
        {
          "output_type": "execute_result",
          "data": {
            "text/plain": [
              "             Name       LTP  % Chg.  Market Cap  \\\n",
              "0        Reliance   2642.40    0.37  1787789.57   \n",
              "1             TCS   3401.05    0.04  1244461.67   \n",
              "2       HDFC Bank   1503.45    1.26   835600.60   \n",
              "3         Infosys   1598.00    0.22   672393.34   \n",
              "4             HUL   2636.10    1.58   619375.75   \n",
              "..            ...       ...     ...         ...   \n",
              "95  Macrotech Dev   1107.80    1.16    53353.14   \n",
              "96     JSW Energy    322.85    0.97    53077.56   \n",
              "97   INDUS TOWERS    195.80   -0.33    52766.87   \n",
              "98          Bosch  17814.20    3.34    52540.56   \n",
              "99  PI Industries   3424.70    2.30    51958.90   \n",
              "\n",
              "                                                  URL  \n",
              "0   https://www.moneycontrol.com//india/stockprice...  \n",
              "1   https://www.moneycontrol.com//india/stockprice...  \n",
              "2   https://www.moneycontrol.com//india/stockprice...  \n",
              "3   https://www.moneycontrol.com//india/stockprice...  \n",
              "4   https://www.moneycontrol.com//india/stockprice...  \n",
              "..                                                ...  \n",
              "95  https://www.moneycontrol.com//india/stockprice...  \n",
              "96  https://www.moneycontrol.com//india/stockprice...  \n",
              "97  https://www.moneycontrol.com//india/stockprice...  \n",
              "98  https://www.moneycontrol.com//india/stockprice...  \n",
              "99  https://www.moneycontrol.com//india/stockprice...  \n",
              "\n",
              "[100 rows x 5 columns]"
            ],
            "text/html": [
              "\n",
              "  <div id=\"df-82f4d259-3de0-4969-a434-81e2722edc06\">\n",
              "    <div class=\"colab-df-container\">\n",
              "      <div>\n",
              "<style scoped>\n",
              "    .dataframe tbody tr th:only-of-type {\n",
              "        vertical-align: middle;\n",
              "    }\n",
              "\n",
              "    .dataframe tbody tr th {\n",
              "        vertical-align: top;\n",
              "    }\n",
              "\n",
              "    .dataframe thead th {\n",
              "        text-align: right;\n",
              "    }\n",
              "</style>\n",
              "<table border=\"1\" class=\"dataframe\">\n",
              "  <thead>\n",
              "    <tr style=\"text-align: right;\">\n",
              "      <th></th>\n",
              "      <th>Name</th>\n",
              "      <th>LTP</th>\n",
              "      <th>% Chg.</th>\n",
              "      <th>Market Cap</th>\n",
              "      <th>URL</th>\n",
              "    </tr>\n",
              "  </thead>\n",
              "  <tbody>\n",
              "    <tr>\n",
              "      <th>0</th>\n",
              "      <td>Reliance</td>\n",
              "      <td>2642.40</td>\n",
              "      <td>0.37</td>\n",
              "      <td>1787789.57</td>\n",
              "      <td>https://www.moneycontrol.com//india/stockprice...</td>\n",
              "    </tr>\n",
              "    <tr>\n",
              "      <th>1</th>\n",
              "      <td>TCS</td>\n",
              "      <td>3401.05</td>\n",
              "      <td>0.04</td>\n",
              "      <td>1244461.67</td>\n",
              "      <td>https://www.moneycontrol.com//india/stockprice...</td>\n",
              "    </tr>\n",
              "    <tr>\n",
              "      <th>2</th>\n",
              "      <td>HDFC Bank</td>\n",
              "      <td>1503.45</td>\n",
              "      <td>1.26</td>\n",
              "      <td>835600.60</td>\n",
              "      <td>https://www.moneycontrol.com//india/stockprice...</td>\n",
              "    </tr>\n",
              "    <tr>\n",
              "      <th>3</th>\n",
              "      <td>Infosys</td>\n",
              "      <td>1598.00</td>\n",
              "      <td>0.22</td>\n",
              "      <td>672393.34</td>\n",
              "      <td>https://www.moneycontrol.com//india/stockprice...</td>\n",
              "    </tr>\n",
              "    <tr>\n",
              "      <th>4</th>\n",
              "      <td>HUL</td>\n",
              "      <td>2636.10</td>\n",
              "      <td>1.58</td>\n",
              "      <td>619375.75</td>\n",
              "      <td>https://www.moneycontrol.com//india/stockprice...</td>\n",
              "    </tr>\n",
              "    <tr>\n",
              "      <th>...</th>\n",
              "      <td>...</td>\n",
              "      <td>...</td>\n",
              "      <td>...</td>\n",
              "      <td>...</td>\n",
              "      <td>...</td>\n",
              "    </tr>\n",
              "    <tr>\n",
              "      <th>95</th>\n",
              "      <td>Macrotech Dev</td>\n",
              "      <td>1107.80</td>\n",
              "      <td>1.16</td>\n",
              "      <td>53353.14</td>\n",
              "      <td>https://www.moneycontrol.com//india/stockprice...</td>\n",
              "    </tr>\n",
              "    <tr>\n",
              "      <th>96</th>\n",
              "      <td>JSW Energy</td>\n",
              "      <td>322.85</td>\n",
              "      <td>0.97</td>\n",
              "      <td>53077.56</td>\n",
              "      <td>https://www.moneycontrol.com//india/stockprice...</td>\n",
              "    </tr>\n",
              "    <tr>\n",
              "      <th>97</th>\n",
              "      <td>INDUS TOWERS</td>\n",
              "      <td>195.80</td>\n",
              "      <td>-0.33</td>\n",
              "      <td>52766.87</td>\n",
              "      <td>https://www.moneycontrol.com//india/stockprice...</td>\n",
              "    </tr>\n",
              "    <tr>\n",
              "      <th>98</th>\n",
              "      <td>Bosch</td>\n",
              "      <td>17814.20</td>\n",
              "      <td>3.34</td>\n",
              "      <td>52540.56</td>\n",
              "      <td>https://www.moneycontrol.com//india/stockprice...</td>\n",
              "    </tr>\n",
              "    <tr>\n",
              "      <th>99</th>\n",
              "      <td>PI Industries</td>\n",
              "      <td>3424.70</td>\n",
              "      <td>2.30</td>\n",
              "      <td>51958.90</td>\n",
              "      <td>https://www.moneycontrol.com//india/stockprice...</td>\n",
              "    </tr>\n",
              "  </tbody>\n",
              "</table>\n",
              "<p>100 rows × 5 columns</p>\n",
              "</div>\n",
              "      <button class=\"colab-df-convert\" onclick=\"convertToInteractive('df-82f4d259-3de0-4969-a434-81e2722edc06')\"\n",
              "              title=\"Convert this dataframe to an interactive table.\"\n",
              "              style=\"display:none;\">\n",
              "        \n",
              "  <svg xmlns=\"http://www.w3.org/2000/svg\" height=\"24px\"viewBox=\"0 0 24 24\"\n",
              "       width=\"24px\">\n",
              "    <path d=\"M0 0h24v24H0V0z\" fill=\"none\"/>\n",
              "    <path d=\"M18.56 5.44l.94 2.06.94-2.06 2.06-.94-2.06-.94-.94-2.06-.94 2.06-2.06.94zm-11 1L8.5 8.5l.94-2.06 2.06-.94-2.06-.94L8.5 2.5l-.94 2.06-2.06.94zm10 10l.94 2.06.94-2.06 2.06-.94-2.06-.94-.94-2.06-.94 2.06-2.06.94z\"/><path d=\"M17.41 7.96l-1.37-1.37c-.4-.4-.92-.59-1.43-.59-.52 0-1.04.2-1.43.59L10.3 9.45l-7.72 7.72c-.78.78-.78 2.05 0 2.83L4 21.41c.39.39.9.59 1.41.59.51 0 1.02-.2 1.41-.59l7.78-7.78 2.81-2.81c.8-.78.8-2.07 0-2.86zM5.41 20L4 18.59l7.72-7.72 1.47 1.35L5.41 20z\"/>\n",
              "  </svg>\n",
              "      </button>\n",
              "      \n",
              "  <style>\n",
              "    .colab-df-container {\n",
              "      display:flex;\n",
              "      flex-wrap:wrap;\n",
              "      gap: 12px;\n",
              "    }\n",
              "\n",
              "    .colab-df-convert {\n",
              "      background-color: #E8F0FE;\n",
              "      border: none;\n",
              "      border-radius: 50%;\n",
              "      cursor: pointer;\n",
              "      display: none;\n",
              "      fill: #1967D2;\n",
              "      height: 32px;\n",
              "      padding: 0 0 0 0;\n",
              "      width: 32px;\n",
              "    }\n",
              "\n",
              "    .colab-df-convert:hover {\n",
              "      background-color: #E2EBFA;\n",
              "      box-shadow: 0px 1px 2px rgba(60, 64, 67, 0.3), 0px 1px 3px 1px rgba(60, 64, 67, 0.15);\n",
              "      fill: #174EA6;\n",
              "    }\n",
              "\n",
              "    [theme=dark] .colab-df-convert {\n",
              "      background-color: #3B4455;\n",
              "      fill: #D2E3FC;\n",
              "    }\n",
              "\n",
              "    [theme=dark] .colab-df-convert:hover {\n",
              "      background-color: #434B5C;\n",
              "      box-shadow: 0px 1px 3px 1px rgba(0, 0, 0, 0.15);\n",
              "      filter: drop-shadow(0px 1px 2px rgba(0, 0, 0, 0.3));\n",
              "      fill: #FFFFFF;\n",
              "    }\n",
              "  </style>\n",
              "\n",
              "      <script>\n",
              "        const buttonEl =\n",
              "          document.querySelector('#df-82f4d259-3de0-4969-a434-81e2722edc06 button.colab-df-convert');\n",
              "        buttonEl.style.display =\n",
              "          google.colab.kernel.accessAllowed ? 'block' : 'none';\n",
              "\n",
              "        async function convertToInteractive(key) {\n",
              "          const element = document.querySelector('#df-82f4d259-3de0-4969-a434-81e2722edc06');\n",
              "          const dataTable =\n",
              "            await google.colab.kernel.invokeFunction('convertToInteractive',\n",
              "                                                     [key], {});\n",
              "          if (!dataTable) return;\n",
              "\n",
              "          const docLinkHtml = 'Like what you see? Visit the ' +\n",
              "            '<a target=\"_blank\" href=https://colab.research.google.com/notebooks/data_table.ipynb>data table notebook</a>'\n",
              "            + ' to learn more about interactive tables.';\n",
              "          element.innerHTML = '';\n",
              "          dataTable['output_type'] = 'display_data';\n",
              "          await google.colab.output.renderOutput(dataTable, element);\n",
              "          const docLink = document.createElement('div');\n",
              "          docLink.innerHTML = docLinkHtml;\n",
              "          element.appendChild(docLink);\n",
              "        }\n",
              "      </script>\n",
              "    </div>\n",
              "  </div>\n",
              "  "
            ]
          },
          "metadata": {},
          "execution_count": 146
        }
      ]
    },
    {
      "cell_type": "markdown",
      "source": [
        "## Future Work\n",
        " * We may get the list of more companies listed on BSE. We may all Create a large Data Frame for Future Analysis. \n",
        " * Explore other complex websites.\n",
        " * Explore how we might go about scraping data using Selenium."
      ],
      "metadata": {
        "id": "wwU6fVIe-6pP"
      }
    },
    {
      "cell_type": "markdown",
      "source": [
        "## Summary\n",
        "\n",
        " * Install and import libraries\n",
        " * Download and Parse the Best seller HTML page source code using resquest and Beautifulsoup to get item categories topics URL.\n",
        " * Extract information from each page\n",
        " * Creadted Pandas DataFrame using ain Function\n",
        " * Save the information data to CSV file Using Pandas library"
      ],
      "metadata": {
        "id": "qLBmQKbP_VRL"
      }
    },
    {
      "cell_type": "markdown",
      "source": [
        "## References\n",
        "* Python offical documentation. - https://docs.python.org/3/\n",
        "\n",
        "* Aakash N S, Introduction to Web Scraping, 2021. - https://jovian.ai/aakashns/python-web-scraping-and-rest-api\n",
        "\n",
        "* requests library documentation. - https://requests.readthedocs.io/en/latest/\n",
        "* BeautifulSoup library documentation. - https://beautiful-soup-4.readthedocs.io/en/latest/\n",
        "* HTML Tutorial - https://html.com/"
      ],
      "metadata": {
        "id": "L_Il2MGi_aUE"
      }
    },
    {
      "cell_type": "code",
      "source": [
        "pip install jovian"
      ],
      "metadata": {
        "id": "m5oLbnMuDfoR",
        "outputId": "5be41e72-35f8-4b2e-d452-82ecc2605ae6",
        "colab": {
          "base_uri": "https://localhost:8080/",
          "height": 450
        }
      },
      "execution_count": null,
      "outputs": [
        {
          "output_type": "stream",
          "name": "stdout",
          "text": [
            "Looking in indexes: https://pypi.org/simple, https://us-python.pkg.dev/colab-wheels/public/simple/\n",
            "Collecting jovian\n",
            "  Downloading jovian-0.2.41-py2.py3-none-any.whl (68 kB)\n",
            "\u001b[K     |████████████████████████████████| 68 kB 3.2 MB/s \n",
            "\u001b[?25hRequirement already satisfied: click in /usr/local/lib/python3.7/dist-packages (from jovian) (7.1.2)\n",
            "Collecting uuid\n",
            "  Downloading uuid-1.30.tar.gz (5.8 kB)\n",
            "Requirement already satisfied: pyyaml in /usr/local/lib/python3.7/dist-packages (from jovian) (3.13)\n",
            "Requirement already satisfied: requests in /usr/local/lib/python3.7/dist-packages (from jovian) (2.23.0)\n",
            "Requirement already satisfied: idna<3,>=2.5 in /usr/local/lib/python3.7/dist-packages (from requests->jovian) (2.10)\n",
            "Requirement already satisfied: urllib3!=1.25.0,!=1.25.1,<1.26,>=1.21.1 in /usr/local/lib/python3.7/dist-packages (from requests->jovian) (1.24.3)\n",
            "Requirement already satisfied: chardet<4,>=3.0.2 in /usr/local/lib/python3.7/dist-packages (from requests->jovian) (3.0.4)\n",
            "Requirement already satisfied: certifi>=2017.4.17 in /usr/local/lib/python3.7/dist-packages (from requests->jovian) (2022.6.15)\n",
            "Building wheels for collected packages: uuid\n",
            "  Building wheel for uuid (setup.py) ... \u001b[?25l\u001b[?25hdone\n",
            "  Created wheel for uuid: filename=uuid-1.30-py3-none-any.whl size=6503 sha256=f5b8d887b9ebe0096cce3f80b36a47ef01a48442890c7cb0fed2e9ae6aa1af25\n",
            "  Stored in directory: /root/.cache/pip/wheels/2a/ea/87/dd57f1ecb4f0752f3e1dbf958ebf8b36d920d190425bcdc24d\n",
            "Successfully built uuid\n",
            "Installing collected packages: uuid, jovian\n",
            "Successfully installed jovian-0.2.41 uuid-1.30\n"
          ]
        },
        {
          "output_type": "display_data",
          "data": {
            "application/vnd.colab-display-data+json": {
              "pip_warning": {
                "packages": [
                  "uuid"
                ]
              }
            }
          },
          "metadata": {}
        }
      ]
    },
    {
      "cell_type": "code",
      "source": [
        "\n",
        "import jovian\n",
        "jovian.commit(files=['Company_details.csv'])"
      ],
      "metadata": {
        "id": "PuVI4coICXSF",
        "outputId": "b32305b6-138a-4e94-e718-b69be6caec55",
        "colab": {
          "base_uri": "https://localhost:8080/"
        }
      },
      "execution_count": null,
      "outputs": [
        {
          "output_type": "stream",
          "name": "stdout",
          "text": [
            "[jovian] Detected Colab notebook...\u001b[0m\n"
          ]
        },
        {
          "output_type": "stream",
          "name": "stderr",
          "text": [
            "\u001b[31m[jovian] Error: jovian.commit doesn't work on Colab unless the notebook was created and executed from Jovian.\n",
            "Make sure to run the first code cell at the top after executing from Jovian.\n",
            "Alternatively, you can download this notebook and upload it manually to Jovian.\n",
            "Learn more: https://jovian.ai/docs/user-guide/run.html#run-on-colab\u001b[0m\n"
          ]
        }
      ]
    }
  ]
}